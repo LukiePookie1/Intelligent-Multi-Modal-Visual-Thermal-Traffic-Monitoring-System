{
 "cells": [
  {
   "cell_type": "code",
   "execution_count": 5,
   "id": "cb4b4b2a-a2af-4860-9ce9-4985c5ac31c1",
   "metadata": {},
   "outputs": [],
   "source": [
    "import tensorflow as tf\n",
    "from tensorflow import keras\n",
    "import cv2\n",
    "import numpy as np\n",
    "import matplotlib.pyplot as plt\n",
    "import os\n",
    "import xml.etree.ElementTree as ET"
   ]
  },
  {
   "cell_type": "code",
   "execution_count": null,
   "id": "dfb1b679-61b8-41eb-8336-df6c5d493add",
   "metadata": {},
   "outputs": [],
   "source": [
    "# Function to load images and annotations from our dataset\n",
    "def load_data(split):\n",
    "    images = []\n",
    "    annotations = []\n",
    "\n",
    "    images_dir = os.path.join(dataset_path, split, \"images\")\n",
    "    annotations_dir = os.path.join(dataset_path, split, \"annotations\")\n",
    "\n",
    "    for filename in os.listdir(images_dir):\n",
    "        if filename.endswith(\".jpg\") or filename.endswith(\".png\"):\n",
    "            image_path = os.path.join(images_dir, filename)\n",
    "            image = cv2.imread(image_path)\n",
    "            images.append(image)\n",
    "\n",
    "            annotation_path = os.path.join(annotations_dir, filename.split(\".\")[0] + \".xml\")\n",
    "            tree = ET.parse(annotation_path)\n",
    "            root = tree.getroot()\n",
    "\n",
    "            annotation = []\n",
    "            for obj in root.findall(\"object\"):\n",
    "                name = obj.find(\"name\").text\n",
    "                bbox = obj.find(\"bndbox\")\n",
    "                xmin = int(bbox.find(\"xmin\").text)\n",
    "                ymin = int(bbox.find(\"ymin\").text)\n",
    "                xmax = int(bbox.find(\"xmax\").text)\n",
    "                ymax = int(bbox.find(\"ymax\").text)\n",
    "                annotation.append((name, xmin, ymin, xmax, ymax))\n",
    "\n",
    "            annotations.append(annotation)\n",
    "\n",
    "    return images, annotations"
   ]
  }
 ],
 "metadata": {
  "kernelspec": {
   "display_name": "Python 3 (ipykernel)",
   "language": "python",
   "name": "python3"
  },
  "language_info": {
   "codemirror_mode": {
    "name": "ipython",
    "version": 3
   },
   "file_extension": ".py",
   "mimetype": "text/x-python",
   "name": "python",
   "nbconvert_exporter": "python",
   "pygments_lexer": "ipython3",
   "version": "3.8.18"
  }
 },
 "nbformat": 4,
 "nbformat_minor": 5
}
